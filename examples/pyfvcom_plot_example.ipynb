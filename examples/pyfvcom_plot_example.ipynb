{
 "cells": [
  {
   "cell_type": "markdown",
   "metadata": {},
   "source": [
    "### PyFVCOM plotting tools examples\n",
    "\n",
    "Here, we demonstrate plotting in three different dimensions: horizontal space, vertical space and time.\n",
    "\n",
    "First we load some model output into an object which can be passed to a number of plotting objects. These objects have methods for plotting different aspects of the data.\n",
    "\n",
    "For the horizontal plots, we plot the sea surface elevation across the model domain at a given time.\n",
    "For the vertical plots, we take a transect through the water column temperature data and plot it.\n",
    "For the time plots, we plot both a simple surface elevation time series and a time-varying water column temperature plot.\n"
   ]
  },
  {
   "cell_type": "code",
   "execution_count": null,
   "metadata": {
    "collapsed": false,
    "jupyter": {
     "outputs_hidden": false
    }
   },
   "outputs": [],
   "source": [
    "import numpy as np\n",
    "# Load an FVCOM model output and plot a surface.\n",
    "from PyFVCOM.read import FileReader\n",
    "from PyFVCOM.read import ncread\n",
    "from PyFVCOM.plot import Plotter, Time, Depth\n",
    "from PyFVCOM.tide import make_water_column\n",
    "from cmocean import cm\n",
    "import matplotlib.pyplot as plt\n",
    "from pyproj import Proj\n",
    "%matplotlib inline"
   ]
  },
  {
   "cell_type": "markdown",
   "metadata": {},
   "source": [
    "## Specify FVCOM OUTPUT NetCDF"
   ]
  },
  {
   "cell_type": "code",
   "execution_count": null,
   "metadata": {},
   "outputs": [],
   "source": [
    "ncfile = 'tvdf01_w3_0001.nc'\n",
    "ncfile = 'tb_futtsu_0001.nc'"
   ]
  },
  {
   "cell_type": "markdown",
   "metadata": {},
   "source": [
    "## Check the FVCOM output NetCDF\n",
    "`FileReader` instance takes long time; so better to first check dims and variables using `ncread`"
   ]
  },
  {
   "cell_type": "code",
   "execution_count": null,
   "metadata": {},
   "outputs": [],
   "source": [
    "# Activate to chack NetCDF\n",
    "'''\n",
    "ds = ncread(ncfile)\n",
    "ds ### Activate to check\n",
    "'''"
   ]
  },
  {
   "cell_type": "code",
   "execution_count": null,
   "metadata": {
    "tags": []
   },
   "outputs": [],
   "source": [
    "# Create an object which holds the model outputs. We're only loading\n",
    "# surface elevation and temperature for the first 200 time steps.\n",
    "fvcom = FileReader(ncfile, dims={'time': [0,1]}, variables=['zeta', 'temp'])\n",
    "# fvcom = FileReader(ncfile, dims={'time': [0,1,2]}, variables=['zeta', 'temp'], zone=54)\n",
    "#fvcom = ncread(ncfile)\n",
    "#fvcom"
   ]
  },
  {
   "cell_type": "code",
   "execution_count": null,
   "metadata": {},
   "outputs": [],
   "source": [
    "fvcom.dims"
   ]
  },
  {
   "cell_type": "code",
   "execution_count": null,
   "metadata": {},
   "outputs": [],
   "source": [
    "fvcom.data.zeta[0,:]"
   ]
  },
  {
   "cell_type": "markdown",
   "metadata": {},
   "source": [
    "## Parameters for Plotter instance\n",
    "        ----------\n",
    "        dataset : Dataset, PyFVCOM.read.FileReader\n",
    "            netCDF4 Dataset or PyFVCOM.read.FileReader object.\n",
    "        stations : 2D array, optional\n",
    "            List of station coordinates to be plotted ([[lons], [lats]])\n",
    "        extents : 1D array, optional\n",
    "            Four element numpy array giving lon/lat limits as west, east, south, north (e.g. [-4.56, -3.76, 49.96,\n",
    "            50.44])\n",
    "        vmin : float, optional\n",
    "            Lower bound to be used on colour bar (plot_field only).\n",
    "        vmax : float, optional\n",
    "            Upper bound to be used colour bar (plot_field only).\n",
    "        mask : float, optional\n",
    "            Mask out values < mask (plot_field only).\n",
    "        res : string, optional\n",
    "            Resolution to use when drawing Basemap object. If None, no coastline is plotted.\n",
    "        fs : int, optional\n",
    "            Font size to use when rendering plot text\n",
    "        title : str, optional\n",
    "            Title to use when creating the plot\n",
    "        cmap : string, optional\n",
    "            Colormap to use when shading field data (plot_field only).\n",
    "        figure : Figure, optional\n",
    "            Matplotlib figure object. A figure object is created if not\n",
    "            provided.\n",
    "        figsize : tuple(float), optional\n",
    "            Figure size in cm. This is only used if a new Figure object is\n",
    "            created.\n",
    "        axes : Axes, optional\n",
    "            Matplotlib Axes object. An Axes object is created if not\n",
    "            provided.\n",
    "        axis_position : 1D array, optional\n",
    "            Array giving axis dimensions\n",
    "        tick_inc : list, optional\n",
    "            Add coordinate axes (i.e. lat/long) at the intervals specified in\n",
    "            the list ([lon_spacing, lat_spacing]).\n",
    "        cb_label : str, optional\n",
    "            Set the colour bar label.\n",
    "        extend : str, optional\n",
    "            Set the colour bar extension ('neither', 'both', 'min', 'max').\n",
    "            Defaults to 'neither').\n",
    "        norm : matplotlib.colors.Normalize, optional\n",
    "            Normalise the luminance to 0, 1. For example, use from matplotlib.colors.LogNorm to do log plots of fields.\n",
    "        m : mpl_toolkits.basemap.Basemap, optional\n",
    "            Pass a Basemap object rather than creating one on each invocation.\n",
    "        cartesian : bool, optional\n",
    "            Set to True to skip using Basemap and instead return a simple cartesian axis plot. Defaults to False\n",
    "            (geographical coordinates).\n",
    "        mapper : string, optional\n",
    "            Set to 'basemap' to use Basemap for plotting or 'cartopy' for cartopy.\n",
    "        coast : bool, optional\n",
    "            Set to True to plot coastline. Default to True.\n",
    "        bmargs : dict, optional\n",
    "            Additional arguments to pass to Basemap.\n",
    "        axis_labels : bool, optional\n",
    "            Whether to annotate x and y axis with labels (defaults to Latitude and Longitude)\n",
    "        bg_color: str, optional\n",
    "            sets the figure background color. Defaults to gray\n",
    "        line_width: float, optional\n",
    "            sets line width. If missing, uses default in rcParams\n",
    "### [pcolormesh](https://matplotlib.org/stable/gallery/images_contours_and_fields/pcolormesh_levels.html)"
   ]
  },
  {
   "cell_type": "code",
   "execution_count": null,
   "metadata": {
    "collapsed": false,
    "jupyter": {
     "outputs_hidden": false
    }
   },
   "outputs": [],
   "source": [
    "# Make a plot of the surface elevation.\n",
    "# fvcom.data.zeta[0,:] は zetaのスライス\n",
    "#   最初の次元は時間で，FileReader instanceで抽出した要素を0始まりの連続したindexとして保持\n",
    "# 課題\n",
    "# ・海岸線はGSHHSを使用しており，精度が悪い．陸域の塗りつぶしや海岸線の扱いは引きつづき要検討\n",
    "# ・日付や任意のテキストを簡単に入れられるようにする\n",
    "# ・フォントサイズ，軸ラベルの変更\n",
    "# ・datetimeで抽出できるようにする\n",
    "\n",
    "plot = Plotter(fvcom,\n",
    "               figsize=(20, 20),\n",
    "               res='i',\n",
    "               tick_inc=(4, 2),\n",
    "               cb_label='{} ({})'.format(fvcom.atts.zeta.long_name,\n",
    "                                         fvcom.atts.zeta.units),\n",
    "               # [west, east, south, north]\n",
    "               extents=[130, 145, 30, 40], vmin=-0.001, vmax=0.001,\n",
    "               cmap=cm.balance)\n",
    "plot.plot_field(fvcom.data.zeta[2, :])\n",
    "plot.figure.savefig('zeta_h2d.png', dpi=600, bbox_inches='tight')\n",
    "\n",
    "#plot.cmap\n",
    "#plot.axes.set_title(fvcom.time.datetime[0].strftime('%Y-%m-%d %H:%M:%S'))"
   ]
  },
  {
   "cell_type": "markdown",
   "metadata": {},
   "source": [
    "### `horizontal_transect_nodes(self, poitions)`\n",
    "In `PyFVCOM/grid/_grid__.py` (L:1990)<br>\n",
    "        positions : np.ndarray\n",
    "            -Extract node IDs along a line defined by `positions` [[x1, y1], [x2, y2], ..., [xn, yn]].\n",
    "            -Array of positions along which to sample the grid. Units are spherical decimal degrees."
   ]
  },
  {
   "cell_type": "code",
   "execution_count": null,
   "metadata": {
    "collapsed": false,
    "jupyter": {
     "outputs_hidden": false
    }
   },
   "outputs": [],
   "source": [
    "# Plot a temperature transect between two locations.\n",
    "# 課題\n",
    "# ・カラーバーの目盛りの数字を普通にしたい\n",
    "# ・間隔を指定する，コンターにする．\n",
    "\n",
    "#positions = np.array(((lon1, lat1), (lon2, lat2)))\n",
    "positions = np.array(((138, 33), (139, 33)))\n",
    "indices, distance = fvcom.horizontal_transect_nodes(positions)\n",
    "# print(indices); print(distance)\n",
    "\n",
    "plot = Depth(fvcom, figsize=(20, 9),\n",
    "             cb_label='Temperature ({})'.format(fvcom.ds.variables['temp'].units),\n",
    "             cmap=cm.thermal)\n",
    "# fill_seabed makes the part of the plot below the seabed grey.\n",
    "plot.plot_slice(distance / 1000,  # to kilometres from metres\n",
    "                fvcom.grid.siglay_z[:, indices],\n",
    "                fvcom.data.temp[2, :, indices],\n",
    "                fill_seabed=True)\n",
    "plot.axes.set_xlim(right=(distance / 1000).max())  # set the x-axis to the data range\n",
    "plot.axes.set_xlabel('Distance (km)')\n",
    "plot.axes.set_ylabel('Depth (m)')\n",
    "# Save the figure.\n",
    "plot.figure.savefig('temperature_profile.png', dpi=600, bbox_inches='tight')"
   ]
  },
  {
   "cell_type": "markdown",
   "metadata": {},
   "source": [
    "## `Time.plotline()`"
   ]
  },
  {
   "cell_type": "code",
   "execution_count": null,
   "metadata": {
    "collapsed": false,
    "jupyter": {
     "outputs_hidden": false
    }
   },
   "outputs": [],
   "source": [
    "# Do a time series at a specific location.\n",
    "# 課題（plotできない）\n",
    "# ・Time classはdatetimeが前提となっている\n",
    "# ・x軸のself.timeは要datetimeのため，現在はNoneになっている，\n",
    "gauge = (33, 139)  # a sample (lon, lat) position\n",
    "index = fvcom.closest_node(gauge)\n",
    "print(index)\n",
    "print(fvcom.data.zeta[:,index])\n",
    "time = Time(fvcom, figsize=(20, 9), title='{} at {}, {}'.format(fvcom.atts.zeta.long_name,\n",
    "                                                                *gauge))\n",
    "time.plot_line(fvcom.data.zeta[:, index], color='r')\n",
    "time.axes.set_ylabel('{} ({})'.format(fvcom.atts.zeta.long_name,\n",
    "                                      fvcom.atts.zeta.units))"
   ]
  },
  {
   "cell_type": "code",
   "execution_count": null,
   "metadata": {
    "collapsed": false,
    "jupyter": {
     "outputs_hidden": false
    }
   },
   "outputs": [],
   "source": [
    "# Plot a depth-varying time profile through a water column\n",
    "fvcom = FileReader('sample.nc', variables=['temp', 'zeta'], dims={'time': range(400), 'node': [5000]})\n",
    "time = Time(fvcom, figsize=(20, 9), cb_label='{} ({})'.format(fvcom.atts.temp.long_name,\n",
    "                                                              fvcom.atts.temp.units))\n",
    "z = make_water_column(fvcom.data.zeta, fvcom.grid.h, fvcom.grid.siglay)\n",
    "# fill_seabed makes the part of the plot below the seabed grey.\n",
    "# We need to squeeze the data array since we've only extracted a single\n",
    "# position.\n",
    "time.plot_surface(z, np.squeeze(fvcom.data.temp), fill_seabed=True)\n",
    "time.axes.set_ylabel('Depth (m)')"
   ]
  }
 ],
 "metadata": {
  "kernelspec": {
   "display_name": "Python 3 (ipykernel)",
   "language": "python",
   "name": "python3"
  },
  "language_info": {
   "codemirror_mode": {
    "name": "ipython",
    "version": 3
   },
   "file_extension": ".py",
   "mimetype": "text/x-python",
   "name": "python",
   "nbconvert_exporter": "python",
   "pygments_lexer": "ipython3",
   "version": "3.10.10"
  }
 },
 "nbformat": 4,
 "nbformat_minor": 4
}
